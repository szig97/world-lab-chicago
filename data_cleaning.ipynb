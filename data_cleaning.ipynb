{
 "cells": [
  {
   "cell_type": "markdown",
   "metadata": {},
   "source": [
    "# World Lab Chicago Data Cleaning"
   ]
  },
  {
   "cell_type": "code",
   "execution_count": null,
   "metadata": {},
   "outputs": [],
   "source": [
    "# Dependencies\n",
    "import pandas as pd"
   ]
  },
  {
   "cell_type": "markdown",
   "metadata": {},
   "source": [
    "## 1. Import csv files"
   ]
  },
  {
   "cell_type": "code",
   "execution_count": null,
   "metadata": {},
   "outputs": [],
   "source": [
    "# Import mailing list csv file\n",
    "mailing_list_data = pd.read_csv(\"data/world_lab_chicago_mailing_list.csv\")\n",
    "mailing_list_data"
   ]
  },
  {
   "cell_type": "code",
   "execution_count": null,
   "metadata": {},
   "outputs": [],
   "source": [
    "# Import customer list csv file\n",
    "customer_list_data = pd.read_csv(\"data/customer_list_2021.csv\")\n",
    "customer_list_data"
   ]
  },
  {
   "cell_type": "markdown",
   "metadata": {},
   "source": [
    "## 2. Cleaning the Mailing List csv file"
   ]
  },
  {
   "cell_type": "code",
   "execution_count": null,
   "metadata": {
    "scrolled": true
   },
   "outputs": [],
   "source": [
    "# Create New Dataframe\n",
    "mailing_list_df = mailing_list_data.loc[:, [\"COMPANYNAME\", \"ADDRESS\", \"CITY\", \"STATE\", \"ZIPCODE\", \"COUNTY\", \"PRIMARYSICDESCRIPTION\"]]\n",
    "mailing_list_df"
   ]
  },
  {
   "cell_type": "code",
   "execution_count": null,
   "metadata": {},
   "outputs": [],
   "source": [
    "# Drop Null Values\n",
    "mailing_list_df = mailing_list_df.dropna(how=\"any\")\n",
    "mailing_list_df"
   ]
  },
  {
   "cell_type": "code",
   "execution_count": null,
   "metadata": {},
   "outputs": [],
   "source": [
    "# Rename Columns\n",
    "mailing_list_cleaned_df = mailing_list_df.rename(columns ={\n",
    "    \"COMPANYNAME\": \"Company Name\",\n",
    "    \"ADDRESS\": \"Address\",\n",
    "    \"CITY\": \"City\",\n",
    "    \"STATE\": \"State\",\n",
    "    \"ZIPCODE\": \"Zip Code\",\n",
    "    \"COUNTY\": \"County\",\n",
    "    \"PRIMARYSICDESCRIPTION\": \"Primary SIC Description\"\n",
    "})\n",
    "# Set index\n",
    "mailing_list_cleaned_df.set_index('Company Name', drop=True, inplace=True)\n",
    "mailing_list_cleaned_df"
   ]
  },
  {
   "cell_type": "markdown",
   "metadata": {},
   "source": [
    "## 3. Cleaning the Customer List csv file"
   ]
  },
  {
   "cell_type": "code",
   "execution_count": null,
   "metadata": {},
   "outputs": [],
   "source": [
    "customer_list_data"
   ]
  },
  {
   "cell_type": "code",
   "execution_count": null,
   "metadata": {},
   "outputs": [],
   "source": [
    "#Split Ship to 3 Data Column into multiple columns\n",
    "customer_list_split = customer_list_data[\"Ship to 3\"].str.split(\" \", n=4, expand=True)\n",
    "customer_list_data[\"City\"] = customer_list_split[0]\n",
    "customer_list_data[\"State\"] = customer_list_split[1]\n",
    "customer_list_data[\"Zip Code\"] = customer_list_split[2]\n",
    "customer_list_data[\"Zip Code 2\"] = customer_list_split[3]\n",
    "\n",
    "customer_list_data"
   ]
  },
  {
   "cell_type": "code",
   "execution_count": null,
   "metadata": {},
   "outputs": [],
   "source": [
    "#Create new DataFrame\n",
    "customer_list_df = customer_list_data.loc[:, [\"Customer\", \"Main Phone\", \"Fax\", \"Ship to 2\", \"City\", \"State\", \"Zip Code\", \"Zip Code 2\"]]\n",
    "customer_list_df"
   ]
  },
  {
   "cell_type": "code",
   "execution_count": null,
   "metadata": {},
   "outputs": [],
   "source": [
    "# Rename Columns\n",
    "customer_list_cleaned_df = customer_list_df.rename(columns ={\n",
    "    \"Ship to 2\": \"Address\",\n",
    "})\n",
    "\n",
    "#Set Index\n",
    "customer_list_cleaned_df.set_index(\"Customer\", drop=True, inplace=True)\n",
    "customer_list_cleaned_df"
   ]
  },
  {
   "cell_type": "markdown",
   "metadata": {},
   "source": [
    "## 4. Export csv files "
   ]
  },
  {
   "cell_type": "code",
   "execution_count": null,
   "metadata": {},
   "outputs": [],
   "source": [
    "#Export csv file\n",
    "mailing_list_cleaned_df.to_csv(r'data/mailing_list_cleaned.csv')\n",
    "customer_list_cleaned_df.to_csv(r'data/customer_list_cleaned.csv')"
   ]
  }
 ],
 "metadata": {
  "kernelspec": {
   "display_name": "Python 3",
   "language": "python",
   "name": "python3"
  },
  "language_info": {
   "codemirror_mode": {
    "name": "ipython",
    "version": 3
   },
   "file_extension": ".py",
   "mimetype": "text/x-python",
   "name": "python",
   "nbconvert_exporter": "python",
   "pygments_lexer": "ipython3",
   "version": "3.6.10"
  }
 },
 "nbformat": 4,
 "nbformat_minor": 4
}
